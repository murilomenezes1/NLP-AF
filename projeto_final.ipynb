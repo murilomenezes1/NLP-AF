{
 "cells": [
  {
   "cell_type": "code",
   "execution_count": 1,
   "id": "e6f55c1d",
   "metadata": {
    "scrolled": true
   },
   "outputs": [
    {
     "name": "stderr",
     "output_type": "stream",
     "text": [
      "2023-06-06 18:48:14.492877: I tensorflow/core/platform/cpu_feature_guard.cc:182] This TensorFlow binary is optimized to use available CPU instructions in performance-critical operations.\n",
      "To enable the following instructions: AVX2 FMA, in other operations, rebuild TensorFlow with the appropriate compiler flags.\n"
     ]
    }
   ],
   "source": [
    "import numpy as np\n",
    "import matplotlib.pyplot as plt\n",
    "import librosa\n",
    "from sklearn.model_selection import train_test_split\n",
    "from librosa.feature import mfcc\n",
    "from tensorflow.keras.utils import to_categorical\n",
    "import gdown\n",
    "import pickle\n",
    "import os\n",
    "import pandas as pd\n",
    "from keras.models import Sequential\n",
    "from keras.layers import Input, LSTM, Dropout, Dense"
   ]
  },
  {
   "cell_type": "markdown",
   "id": "d2c352af",
   "metadata": {},
   "source": [
    "# Produto\n",
    "\n",
    "## Classificador de sentimento em arquivos de audio\n",
    "\n",
    "### a) Qual é o problema que esse produto resolve?\n",
    "\n",
    "    Identificar e classificar emoções em falas presentes em arquivos de audio\n",
    "\n",
    "### b) Qual é o público a que o produto atende?\n",
    "    \n",
    "    O publico-alvo deste produto é qualquer empresa que tenha interesse em melhorar seu atendimento ao consumidor, ou processos de telemarketing.\n",
    "\n",
    "\n",
    "\n",
    "\n",
    "#### c) Como esse produto se relaciona a machine learning?\n",
    "\n",
    "    Esse produto se relaciona a machine learning na maneira como é tratado e desenvolvido. Para chegar no resultado desejado, foi necessário angariar uma grande quantidade de dados no formato específico necessário, e devidamente classificados, a fim de treinar diferentes modelos de machine learning utilizando técnicas de NLP.\n"
   ]
  },
  {
   "cell_type": "markdown",
   "id": "140d776b",
   "metadata": {},
   "source": [
    "# Base de dados\n",
    "\n",
    "## Para este problema, foram escolhidas duas bases de dados: RAVDESS e SAVEE"
   ]
  },
  {
   "cell_type": "code",
   "execution_count": 2,
   "id": "8b6e5a3d",
   "metadata": {},
   "outputs": [
    {
     "data": {
      "text/html": [
       "<div>\n",
       "<style scoped>\n",
       "    .dataframe tbody tr th:only-of-type {\n",
       "        vertical-align: middle;\n",
       "    }\n",
       "\n",
       "    .dataframe tbody tr th {\n",
       "        vertical-align: top;\n",
       "    }\n",
       "\n",
       "    .dataframe thead th {\n",
       "        text-align: right;\n",
       "    }\n",
       "</style>\n",
       "<table border=\"1\" class=\"dataframe\">\n",
       "  <thead>\n",
       "    <tr style=\"text-align: right;\">\n",
       "      <th></th>\n",
       "      <th>path</th>\n",
       "      <th>sex</th>\n",
       "      <th>emotion</th>\n",
       "    </tr>\n",
       "  </thead>\n",
       "  <tbody>\n",
       "    <tr>\n",
       "      <th>0</th>\n",
       "      <td>./RAVDESS/audio_speech_actors_01-24/Actor_11/0...</td>\n",
       "      <td>male</td>\n",
       "      <td>neutral</td>\n",
       "    </tr>\n",
       "    <tr>\n",
       "      <th>1</th>\n",
       "      <td>./RAVDESS/audio_speech_actors_01-24/Actor_11/0...</td>\n",
       "      <td>male</td>\n",
       "      <td>happy</td>\n",
       "    </tr>\n",
       "    <tr>\n",
       "      <th>2</th>\n",
       "      <td>./RAVDESS/audio_speech_actors_01-24/Actor_11/0...</td>\n",
       "      <td>male</td>\n",
       "      <td>happy</td>\n",
       "    </tr>\n",
       "    <tr>\n",
       "      <th>3</th>\n",
       "      <td>./RAVDESS/audio_speech_actors_01-24/Actor_11/0...</td>\n",
       "      <td>male</td>\n",
       "      <td>sad</td>\n",
       "    </tr>\n",
       "    <tr>\n",
       "      <th>4</th>\n",
       "      <td>./RAVDESS/audio_speech_actors_01-24/Actor_11/0...</td>\n",
       "      <td>male</td>\n",
       "      <td>disgust</td>\n",
       "    </tr>\n",
       "  </tbody>\n",
       "</table>\n",
       "</div>"
      ],
      "text/plain": [
       "                                                path   sex  emotion\n",
       "0  ./RAVDESS/audio_speech_actors_01-24/Actor_11/0...  male  neutral\n",
       "1  ./RAVDESS/audio_speech_actors_01-24/Actor_11/0...  male    happy\n",
       "2  ./RAVDESS/audio_speech_actors_01-24/Actor_11/0...  male    happy\n",
       "3  ./RAVDESS/audio_speech_actors_01-24/Actor_11/0...  male      sad\n",
       "4  ./RAVDESS/audio_speech_actors_01-24/Actor_11/0...  male  disgust"
      ]
     },
     "execution_count": 2,
     "metadata": {},
     "output_type": "execute_result"
    }
   ],
   "source": [
    "RAVDESS = \"./RAVDESS/audio_speech_actors_01-24/\"\n",
    "ravdess_dir_lis = os.listdir(RAVDESS)\n",
    "\n",
    "path_list = []\n",
    "gender_list = []\n",
    "emotion_list = []\n",
    "\n",
    "emotion_dic = {\n",
    "    '03' : 'happy',\n",
    "    '01' : 'neutral',\n",
    "    '04' : 'sad',\n",
    "    '05' : 'angry',\n",
    "    '06' : 'fear',\n",
    "    '07' : 'disgust',\n",
    "}\n",
    "\n",
    "\n",
    "\n",
    "for root, dirs, files in os.walk(RAVDESS):\n",
    "    for file in files:\n",
    "        if file == '.DS_Store':\n",
    "            file_path = os.path.join(root, file)\n",
    "            os.remove(file_path)\n",
    "            print(f\"Removed: {file_path}\")\n",
    "\n",
    "for directory in ravdess_dir_lis:\n",
    "    actor_files = os.listdir(os.path.join(RAVDESS, directory))\n",
    "    for audio_file in actor_files: \n",
    "        part = audio_file.split('.')[0]\n",
    "        key = part.split('-')[2]\n",
    "        if key in emotion_dic:\n",
    "            gender_code = int(part.split('-')[6])\n",
    "            path_list.append(f\"{RAVDESS}{directory}/{audio_file}\")\n",
    "            gender_list.append('female' if gender_code & 1 == 0 else 'male')\n",
    "            emotion_list.append(emotion_dic[key])\n",
    "            \n",
    "ravdess_df = pd.concat([\n",
    "    pd.DataFrame(path_list, columns=['path']),\n",
    "    pd.DataFrame(gender_list, columns=['sex']),\n",
    "    pd.DataFrame(emotion_list, columns=['emotion'])\n",
    "], axis=1)\n",
    "\n",
    "ravdess_df.head()\n"
   ]
  },
  {
   "cell_type": "code",
   "execution_count": 3,
   "id": "63db036b",
   "metadata": {},
   "outputs": [],
   "source": [
    "ravdess_df = ravdess_df[ravdess_df['path'] !=  './RAVDESS/audio_speech_actors_01-24/Actor_16']"
   ]
  },
  {
   "cell_type": "code",
   "execution_count": 4,
   "id": "64f069e3",
   "metadata": {},
   "outputs": [
    {
     "name": "stderr",
     "output_type": "stream",
     "text": [
      "/Library/Frameworks/Python.framework/Versions/3.8/lib/python3.8/site-packages/pydub/utils.py:170: RuntimeWarning: Couldn't find ffmpeg or avconv - defaulting to ffmpeg, but may not work\n",
      "  warn(\"Couldn't find ffmpeg or avconv - defaulting to ffmpeg, but may not work\", RuntimeWarning)\n"
     ]
    }
   ],
   "source": [
    "from pydub import AudioSegment, effects\n",
    "\n",
    "\n",
    "classes = {\n",
    "    'neutral' : 0,\n",
    "    'happy'   : 1,\n",
    "    'sad'     : 2, \n",
    "    'angry'   : 3, \n",
    "    'fear'    : 4, \n",
    "    'disgust' : 5\n",
    "}\n",
    "\n"
   ]
  },
  {
   "cell_type": "code",
   "execution_count": 5,
   "id": "d52be33c",
   "metadata": {},
   "outputs": [
    {
     "data": {
      "text/html": [
       "<div>\n",
       "<style scoped>\n",
       "    .dataframe tbody tr th:only-of-type {\n",
       "        vertical-align: middle;\n",
       "    }\n",
       "\n",
       "    .dataframe tbody tr th {\n",
       "        vertical-align: top;\n",
       "    }\n",
       "\n",
       "    .dataframe thead th {\n",
       "        text-align: right;\n",
       "    }\n",
       "</style>\n",
       "<table border=\"1\" class=\"dataframe\">\n",
       "  <thead>\n",
       "    <tr style=\"text-align: right;\">\n",
       "      <th></th>\n",
       "      <th>path</th>\n",
       "      <th>sex</th>\n",
       "      <th>emotion</th>\n",
       "    </tr>\n",
       "  </thead>\n",
       "  <tbody>\n",
       "    <tr>\n",
       "      <th>0</th>\n",
       "      <td>./SAVEE/ALL/JK_sa01.wav</td>\n",
       "      <td>male</td>\n",
       "      <td>sad</td>\n",
       "    </tr>\n",
       "    <tr>\n",
       "      <th>1</th>\n",
       "      <td>./SAVEE/ALL/JK_sa15.wav</td>\n",
       "      <td>male</td>\n",
       "      <td>sad</td>\n",
       "    </tr>\n",
       "    <tr>\n",
       "      <th>2</th>\n",
       "      <td>./SAVEE/ALL/DC_n13.wav</td>\n",
       "      <td>male</td>\n",
       "      <td>neutral</td>\n",
       "    </tr>\n",
       "    <tr>\n",
       "      <th>3</th>\n",
       "      <td>./SAVEE/ALL/DC_n07.wav</td>\n",
       "      <td>male</td>\n",
       "      <td>neutral</td>\n",
       "    </tr>\n",
       "    <tr>\n",
       "      <th>4</th>\n",
       "      <td>./SAVEE/ALL/JK_n20.wav</td>\n",
       "      <td>male</td>\n",
       "      <td>neutral</td>\n",
       "    </tr>\n",
       "  </tbody>\n",
       "</table>\n",
       "</div>"
      ],
      "text/plain": [
       "                      path   sex  emotion\n",
       "0  ./SAVEE/ALL/JK_sa01.wav  male      sad\n",
       "1  ./SAVEE/ALL/JK_sa15.wav  male      sad\n",
       "2   ./SAVEE/ALL/DC_n13.wav  male  neutral\n",
       "3   ./SAVEE/ALL/DC_n07.wav  male  neutral\n",
       "4   ./SAVEE/ALL/JK_n20.wav  male  neutral"
      ]
     },
     "execution_count": 5,
     "metadata": {},
     "output_type": "execute_result"
    }
   ],
   "source": [
    "SAVEE = \"./SAVEE/ALL/\" \n",
    "savee_dir_list = os.listdir(SAVEE)\n",
    "path_list = []\n",
    "gender_list = []\n",
    "emotion_list = []\n",
    "\n",
    "emotion_dic = {\n",
    "    'h'  : 'happy',\n",
    "    'n'  : 'neutral',\n",
    "    'sa' : 'sad',\n",
    "    'a'  : 'angry',\n",
    "    'f'  : 'fear',\n",
    "    'd'  : 'disgust'\n",
    "}\n",
    "\n",
    "for audio_file in savee_dir_list:\n",
    "    part = audio_file.split('_')[1]\n",
    "    key = part[:-6]\n",
    "    if key in emotion_dic:\n",
    "        path_list.append(f\"{SAVEE}{audio_file}\")\n",
    "        gender_list.append('male') # male only dataset\n",
    "        emotion_list.append(emotion_dic[key])\n",
    "            \n",
    "savee_df = pd.concat([\n",
    "    pd.DataFrame(path_list, columns=['path']),\n",
    "    pd.DataFrame(gender_list, columns=['sex']),\n",
    "    pd.DataFrame(emotion_list, columns=['emotion'])\n",
    "], axis=1)\n",
    "\n",
    "savee_df.head()"
   ]
  },
  {
   "cell_type": "code",
   "execution_count": 6,
   "id": "103e9761",
   "metadata": {
    "scrolled": true
   },
   "outputs": [
    {
     "data": {
      "text/html": [
       "<div>\n",
       "<style scoped>\n",
       "    .dataframe tbody tr th:only-of-type {\n",
       "        vertical-align: middle;\n",
       "    }\n",
       "\n",
       "    .dataframe tbody tr th {\n",
       "        vertical-align: top;\n",
       "    }\n",
       "\n",
       "    .dataframe thead th {\n",
       "        text-align: right;\n",
       "    }\n",
       "</style>\n",
       "<table border=\"1\" class=\"dataframe\">\n",
       "  <thead>\n",
       "    <tr style=\"text-align: right;\">\n",
       "      <th></th>\n",
       "      <th>path</th>\n",
       "      <th>sex</th>\n",
       "      <th>emotion</th>\n",
       "    </tr>\n",
       "  </thead>\n",
       "  <tbody>\n",
       "    <tr>\n",
       "      <th>0</th>\n",
       "      <td>./RAVDESS/audio_speech_actors_01-24/Actor_11/0...</td>\n",
       "      <td>male</td>\n",
       "      <td>neutral</td>\n",
       "    </tr>\n",
       "    <tr>\n",
       "      <th>1</th>\n",
       "      <td>./RAVDESS/audio_speech_actors_01-24/Actor_11/0...</td>\n",
       "      <td>male</td>\n",
       "      <td>happy</td>\n",
       "    </tr>\n",
       "    <tr>\n",
       "      <th>2</th>\n",
       "      <td>./RAVDESS/audio_speech_actors_01-24/Actor_11/0...</td>\n",
       "      <td>male</td>\n",
       "      <td>happy</td>\n",
       "    </tr>\n",
       "    <tr>\n",
       "      <th>3</th>\n",
       "      <td>./RAVDESS/audio_speech_actors_01-24/Actor_11/0...</td>\n",
       "      <td>male</td>\n",
       "      <td>sad</td>\n",
       "    </tr>\n",
       "    <tr>\n",
       "      <th>4</th>\n",
       "      <td>./RAVDESS/audio_speech_actors_01-24/Actor_11/0...</td>\n",
       "      <td>male</td>\n",
       "      <td>disgust</td>\n",
       "    </tr>\n",
       "  </tbody>\n",
       "</table>\n",
       "</div>"
      ],
      "text/plain": [
       "                                                path   sex  emotion\n",
       "0  ./RAVDESS/audio_speech_actors_01-24/Actor_11/0...  male  neutral\n",
       "1  ./RAVDESS/audio_speech_actors_01-24/Actor_11/0...  male    happy\n",
       "2  ./RAVDESS/audio_speech_actors_01-24/Actor_11/0...  male    happy\n",
       "3  ./RAVDESS/audio_speech_actors_01-24/Actor_11/0...  male      sad\n",
       "4  ./RAVDESS/audio_speech_actors_01-24/Actor_11/0...  male  disgust"
      ]
     },
     "execution_count": 6,
     "metadata": {},
     "output_type": "execute_result"
    }
   ],
   "source": [
    "full_df = pd.concat([ravdess_df, savee_df], axis = 0)\n",
    "\n",
    "full_df.head()"
   ]
  },
  {
   "cell_type": "markdown",
   "id": "20d52fae",
   "metadata": {},
   "source": [
    "# Feature Extraction\n",
    "\n",
    "Para a etapa de feature extraction, extraimos os MFCCs dos arquivos de audio, a fim de termos uma representação quantitativa dos fonemas na fala."
   ]
  },
  {
   "cell_type": "code",
   "execution_count": 37,
   "id": "94b52fc2",
   "metadata": {},
   "outputs": [],
   "source": [
    "mfcc_vector = []\n",
    "emotion_vector = []\n",
    "for i in full_df.itertuples():\n",
    "    \n",
    "    y, sr = librosa.load(i.path)\n",
    "    raw_audio = AudioSegment.from_file(i.path)\n",
    "    \n",
    "    samples = np.array(raw_audio.get_array_of_samples(), dtype='float32')\n",
    "    trimmed, _ = librosa.effects.trim(samples, top_db=25)\n",
    "    padded = np.pad(trimmed, (0, 500000-len(trimmed)), 'constant')\n",
    "    mfcc_ = librosa.feature.mfcc(y=padded, sr=sr, n_mfcc = 24, n_fft=512)\n",
    "    mfcc_vector.append(mfcc_)\n",
    "    emotion_vector.append(classes[i.emotion])"
   ]
  },
  {
   "cell_type": "code",
   "execution_count": 38,
   "id": "8752bc2b",
   "metadata": {},
   "outputs": [],
   "source": [
    "X = np.asarray(mfcc_vector)\n",
    "y = np.asarray(emotion_vector)\n",
    "y = np.expand_dims(y, axis=1).astype('int8')\n",
    "X_train, X_test, Y_train, Y_test = train_test_split(X, y, test_size=0.1, random_state=None,stratify=y)\n",
    "\n",
    "\n",
    "Y_train_ohe = to_categorical(Y_train,6)\n",
    "Y_test_ohe = to_categorical(Y_test,6)"
   ]
  },
  {
   "cell_type": "code",
   "execution_count": 39,
   "id": "f4665ad7",
   "metadata": {
    "scrolled": true
   },
   "outputs": [
    {
     "name": "stdout",
     "output_type": "stream",
     "text": [
      "(5155, 24, 977)\n",
      "(5155, 1)\n",
      "(573, 24, 977)\n",
      "(573, 1)\n"
     ]
    }
   ],
   "source": [
    "print(X_train.shape)\n",
    "print(Y_train.shape)\n",
    "print(X_test.shape)\n",
    "print(Y_test.shape)"
   ]
  },
  {
   "cell_type": "code",
   "execution_count": 65,
   "id": "6ffd9203",
   "metadata": {},
   "outputs": [],
   "source": [
    "from sklearn.metrics import confusion_matrix, ConfusionMatrixDisplay\n",
    "def matriz_confusao(y_test_hot_arg, y_est_argmax): # gera matriz\n",
    "    cm = confusion_matrix(y_test_hot_arg, y_est_argmax, normalize=\"true\")\n",
    "    disp = ConfusionMatrixDisplay(confusion_matrix=cm)\n",
    "    disp.plot()\n",
    "    plt.show()"
   ]
  },
  {
   "cell_type": "markdown",
   "id": "058d0879",
   "metadata": {},
   "source": [
    "# Modelo Baseline"
   ]
  },
  {
   "cell_type": "code",
   "execution_count": 40,
   "id": "2acf7031",
   "metadata": {
    "scrolled": true
   },
   "outputs": [
    {
     "name": "stderr",
     "output_type": "stream",
     "text": [
      "/Library/Frameworks/Python.framework/Versions/3.8/lib/python3.8/site-packages/sklearn/utils/validation.py:1143: DataConversionWarning: A column-vector y was passed when a 1d array was expected. Please change the shape of y to (n_samples, ), for example using ravel().\n",
      "  y = column_or_1d(y, warn=True)\n"
     ]
    },
    {
     "name": "stdout",
     "output_type": "stream",
     "text": [
      "Accuracy: 0.731239092495637\n"
     ]
    },
    {
     "name": "stderr",
     "output_type": "stream",
     "text": [
      "/Library/Frameworks/Python.framework/Versions/3.8/lib/python3.8/site-packages/sklearn/linear_model/_logistic.py:458: ConvergenceWarning: lbfgs failed to converge (status=1):\n",
      "STOP: TOTAL NO. of ITERATIONS REACHED LIMIT.\n",
      "\n",
      "Increase the number of iterations (max_iter) or scale the data as shown in:\n",
      "    https://scikit-learn.org/stable/modules/preprocessing.html\n",
      "Please also refer to the documentation for alternative solver options:\n",
      "    https://scikit-learn.org/stable/modules/linear_model.html#logistic-regression\n",
      "  n_iter_i = _check_optimize_result(\n"
     ]
    }
   ],
   "source": [
    "\n",
    "import numpy as np\n",
    "from sklearn.linear_model import LogisticRegression\n",
    "from sklearn.metrics import accuracy_score\n",
    "\n",
    "# Reshape the MFCC vectors into 2D format\n",
    "X_train_2d = np.reshape(X_train, (X_train.shape[0], -1))\n",
    "X_test_2d = np.reshape(X_test, (X_test.shape[0], -1))\n",
    "\n",
    "# Create a Logistic Regression model\n",
    "logreg = LogisticRegression()\n",
    "\n",
    "# Train the model\n",
    "logreg.fit(X_train_2d, Y_train)\n",
    "\n",
    "# Predict on the test set\n",
    "Y_pred = logreg.predict(X_test_2d)\n",
    "\n",
    "# Calculate accuracy\n",
    "accuracy = accuracy_score(Y_test, Y_pred)\n",
    "print(\"Accuracy:\", accuracy)\n"
   ]
  },
  {
   "cell_type": "code",
   "execution_count": 78,
   "id": "bd886abd",
   "metadata": {},
   "outputs": [
    {
     "data": {
      "text/plain": [
       "['logistic_regression_model.joblib']"
      ]
     },
     "execution_count": 78,
     "metadata": {},
     "output_type": "execute_result"
    }
   ],
   "source": [
    "from joblib import dump\n",
    "dump(logreg, 'logistic_regression_model.joblib')"
   ]
  },
  {
   "cell_type": "markdown",
   "id": "6da9b588",
   "metadata": {},
   "source": [
    "# Deep Learning\n"
   ]
  },
  {
   "cell_type": "code",
   "execution_count": 49,
   "id": "350f6320",
   "metadata": {
    "scrolled": false
   },
   "outputs": [
    {
     "name": "stderr",
     "output_type": "stream",
     "text": [
      "2023-06-06 20:08:47.787802: I tensorflow/core/common_runtime/executor.cc:1197] [/device:CPU:0] (DEBUG INFO) Executor start aborting (this does not indicate an error and you can ignore this message): INVALID_ARGUMENT: You must feed a value for placeholder tensor 'gradients/split_2_grad/concat/split_2/split_dim' with dtype int32\n",
      "\t [[{{node gradients/split_2_grad/concat/split_2/split_dim}}]]\n",
      "2023-06-06 20:08:47.790403: I tensorflow/core/common_runtime/executor.cc:1197] [/device:CPU:0] (DEBUG INFO) Executor start aborting (this does not indicate an error and you can ignore this message): INVALID_ARGUMENT: You must feed a value for placeholder tensor 'gradients/split_grad/concat/split/split_dim' with dtype int32\n",
      "\t [[{{node gradients/split_grad/concat/split/split_dim}}]]\n",
      "2023-06-06 20:08:47.792247: I tensorflow/core/common_runtime/executor.cc:1197] [/device:CPU:0] (DEBUG INFO) Executor start aborting (this does not indicate an error and you can ignore this message): INVALID_ARGUMENT: You must feed a value for placeholder tensor 'gradients/split_1_grad/concat/split_1/split_dim' with dtype int32\n",
      "\t [[{{node gradients/split_1_grad/concat/split_1/split_dim}}]]\n"
     ]
    },
    {
     "name": "stdout",
     "output_type": "stream",
     "text": [
      "Model: \"sequential_2\"\n",
      "_________________________________________________________________\n",
      " Layer (type)                Output Shape              Param #   \n",
      "=================================================================\n",
      " lstm_4 (LSTM)               (None, 24, 6)             23616     \n",
      "                                                                 \n",
      " dropout_4 (Dropout)         (None, 24, 6)             0         \n",
      "                                                                 \n",
      " lstm_5 (LSTM)               (None, 6)                 312       \n",
      "                                                                 \n",
      " dropout_5 (Dropout)         (None, 6)                 0         \n",
      "                                                                 \n",
      " classificador (Dense)       (None, 6)                 42        \n",
      "                                                                 \n",
      "=================================================================\n",
      "Total params: 23,970\n",
      "Trainable params: 23,970\n",
      "Non-trainable params: 0\n",
      "_________________________________________________________________\n"
     ]
    },
    {
     "name": "stderr",
     "output_type": "stream",
     "text": [
      "2023-06-06 20:08:48.116434: I tensorflow/core/common_runtime/executor.cc:1197] [/device:CPU:0] (DEBUG INFO) Executor start aborting (this does not indicate an error and you can ignore this message): INVALID_ARGUMENT: You must feed a value for placeholder tensor 'gradients/split_2_grad/concat/split_2/split_dim' with dtype int32\n",
      "\t [[{{node gradients/split_2_grad/concat/split_2/split_dim}}]]\n",
      "2023-06-06 20:08:48.118684: I tensorflow/core/common_runtime/executor.cc:1197] [/device:CPU:0] (DEBUG INFO) Executor start aborting (this does not indicate an error and you can ignore this message): INVALID_ARGUMENT: You must feed a value for placeholder tensor 'gradients/split_grad/concat/split/split_dim' with dtype int32\n",
      "\t [[{{node gradients/split_grad/concat/split/split_dim}}]]\n",
      "2023-06-06 20:08:48.120437: I tensorflow/core/common_runtime/executor.cc:1197] [/device:CPU:0] (DEBUG INFO) Executor start aborting (this does not indicate an error and you can ignore this message): INVALID_ARGUMENT: You must feed a value for placeholder tensor 'gradients/split_1_grad/concat/split_1/split_dim' with dtype int32\n",
      "\t [[{{node gradients/split_1_grad/concat/split_1/split_dim}}]]\n"
     ]
    },
    {
     "name": "stdout",
     "output_type": "stream",
     "text": [
      "Epoch 1/50\n"
     ]
    },
    {
     "name": "stderr",
     "output_type": "stream",
     "text": [
      "2023-06-06 20:08:48.764813: I tensorflow/core/common_runtime/executor.cc:1197] [/device:CPU:0] (DEBUG INFO) Executor start aborting (this does not indicate an error and you can ignore this message): INVALID_ARGUMENT: You must feed a value for placeholder tensor 'gradients/split_2_grad/concat/split_2/split_dim' with dtype int32\n",
      "\t [[{{node gradients/split_2_grad/concat/split_2/split_dim}}]]\n",
      "2023-06-06 20:08:48.768829: I tensorflow/core/common_runtime/executor.cc:1197] [/device:CPU:0] (DEBUG INFO) Executor start aborting (this does not indicate an error and you can ignore this message): INVALID_ARGUMENT: You must feed a value for placeholder tensor 'gradients/split_grad/concat/split/split_dim' with dtype int32\n",
      "\t [[{{node gradients/split_grad/concat/split/split_dim}}]]\n",
      "2023-06-06 20:08:48.771146: I tensorflow/core/common_runtime/executor.cc:1197] [/device:CPU:0] (DEBUG INFO) Executor start aborting (this does not indicate an error and you can ignore this message): INVALID_ARGUMENT: You must feed a value for placeholder tensor 'gradients/split_1_grad/concat/split_1/split_dim' with dtype int32\n",
      "\t [[{{node gradients/split_1_grad/concat/split_1/split_dim}}]]\n",
      "2023-06-06 20:08:49.131760: I tensorflow/core/common_runtime/executor.cc:1197] [/device:CPU:0] (DEBUG INFO) Executor start aborting (this does not indicate an error and you can ignore this message): INVALID_ARGUMENT: You must feed a value for placeholder tensor 'gradients/split_2_grad/concat/split_2/split_dim' with dtype int32\n",
      "\t [[{{node gradients/split_2_grad/concat/split_2/split_dim}}]]\n",
      "2023-06-06 20:08:49.135411: I tensorflow/core/common_runtime/executor.cc:1197] [/device:CPU:0] (DEBUG INFO) Executor start aborting (this does not indicate an error and you can ignore this message): INVALID_ARGUMENT: You must feed a value for placeholder tensor 'gradients/split_grad/concat/split/split_dim' with dtype int32\n",
      "\t [[{{node gradients/split_grad/concat/split/split_dim}}]]\n",
      "2023-06-06 20:08:49.138293: I tensorflow/core/common_runtime/executor.cc:1197] [/device:CPU:0] (DEBUG INFO) Executor start aborting (this does not indicate an error and you can ignore this message): INVALID_ARGUMENT: You must feed a value for placeholder tensor 'gradients/split_1_grad/concat/split_1/split_dim' with dtype int32\n",
      "\t [[{{node gradients/split_1_grad/concat/split_1/split_dim}}]]\n",
      "2023-06-06 20:08:50.873732: I tensorflow/core/common_runtime/executor.cc:1197] [/device:CPU:0] (DEBUG INFO) Executor start aborting (this does not indicate an error and you can ignore this message): INVALID_ARGUMENT: You must feed a value for placeholder tensor 'gradients/split_2_grad/concat/split_2/split_dim' with dtype int32\n",
      "\t [[{{node gradients/split_2_grad/concat/split_2/split_dim}}]]\n",
      "2023-06-06 20:08:50.877176: I tensorflow/core/common_runtime/executor.cc:1197] [/device:CPU:0] (DEBUG INFO) Executor start aborting (this does not indicate an error and you can ignore this message): INVALID_ARGUMENT: You must feed a value for placeholder tensor 'gradients/split_grad/concat/split/split_dim' with dtype int32\n",
      "\t [[{{node gradients/split_grad/concat/split/split_dim}}]]\n",
      "2023-06-06 20:08:50.879738: I tensorflow/core/common_runtime/executor.cc:1197] [/device:CPU:0] (DEBUG INFO) Executor start aborting (this does not indicate an error and you can ignore this message): INVALID_ARGUMENT: You must feed a value for placeholder tensor 'gradients/split_1_grad/concat/split_1/split_dim' with dtype int32\n",
      "\t [[{{node gradients/split_1_grad/concat/split_1/split_dim}}]]\n",
      "2023-06-06 20:08:51.283456: I tensorflow/core/common_runtime/executor.cc:1197] [/device:CPU:0] (DEBUG INFO) Executor start aborting (this does not indicate an error and you can ignore this message): INVALID_ARGUMENT: You must feed a value for placeholder tensor 'gradients/split_2_grad/concat/split_2/split_dim' with dtype int32\n",
      "\t [[{{node gradients/split_2_grad/concat/split_2/split_dim}}]]\n",
      "2023-06-06 20:08:51.285064: I tensorflow/core/common_runtime/executor.cc:1197] [/device:CPU:0] (DEBUG INFO) Executor start aborting (this does not indicate an error and you can ignore this message): INVALID_ARGUMENT: You must feed a value for placeholder tensor 'gradients/split_grad/concat/split/split_dim' with dtype int32\n",
      "\t [[{{node gradients/split_grad/concat/split/split_dim}}]]\n",
      "2023-06-06 20:08:51.287974: I tensorflow/core/common_runtime/executor.cc:1197] [/device:CPU:0] (DEBUG INFO) Executor start aborting (this does not indicate an error and you can ignore this message): INVALID_ARGUMENT: You must feed a value for placeholder tensor 'gradients/split_1_grad/concat/split_1/split_dim' with dtype int32\n",
      "\t [[{{node gradients/split_1_grad/concat/split_1/split_dim}}]]\n"
     ]
    },
    {
     "name": "stdout",
     "output_type": "stream",
     "text": [
      "128/129 [============================>.] - ETA: 0s - loss: 1.7659"
     ]
    },
    {
     "name": "stderr",
     "output_type": "stream",
     "text": [
      "2023-06-06 20:08:58.941200: I tensorflow/core/common_runtime/executor.cc:1197] [/device:CPU:0] (DEBUG INFO) Executor start aborting (this does not indicate an error and you can ignore this message): INVALID_ARGUMENT: You must feed a value for placeholder tensor 'gradients/split_2_grad/concat/split_2/split_dim' with dtype int32\n",
      "\t [[{{node gradients/split_2_grad/concat/split_2/split_dim}}]]\n",
      "2023-06-06 20:08:58.943796: I tensorflow/core/common_runtime/executor.cc:1197] [/device:CPU:0] (DEBUG INFO) Executor start aborting (this does not indicate an error and you can ignore this message): INVALID_ARGUMENT: You must feed a value for placeholder tensor 'gradients/split_grad/concat/split/split_dim' with dtype int32\n",
      "\t [[{{node gradients/split_grad/concat/split/split_dim}}]]\n",
      "2023-06-06 20:08:58.945651: I tensorflow/core/common_runtime/executor.cc:1197] [/device:CPU:0] (DEBUG INFO) Executor start aborting (this does not indicate an error and you can ignore this message): INVALID_ARGUMENT: You must feed a value for placeholder tensor 'gradients/split_1_grad/concat/split_1/split_dim' with dtype int32\n",
      "\t [[{{node gradients/split_1_grad/concat/split_1/split_dim}}]]\n",
      "2023-06-06 20:08:59.246457: I tensorflow/core/common_runtime/executor.cc:1197] [/device:CPU:0] (DEBUG INFO) Executor start aborting (this does not indicate an error and you can ignore this message): INVALID_ARGUMENT: You must feed a value for placeholder tensor 'gradients/split_2_grad/concat/split_2/split_dim' with dtype int32\n",
      "\t [[{{node gradients/split_2_grad/concat/split_2/split_dim}}]]\n",
      "2023-06-06 20:08:59.249983: I tensorflow/core/common_runtime/executor.cc:1197] [/device:CPU:0] (DEBUG INFO) Executor start aborting (this does not indicate an error and you can ignore this message): INVALID_ARGUMENT: You must feed a value for placeholder tensor 'gradients/split_grad/concat/split/split_dim' with dtype int32\n",
      "\t [[{{node gradients/split_grad/concat/split/split_dim}}]]\n",
      "2023-06-06 20:08:59.251756: I tensorflow/core/common_runtime/executor.cc:1197] [/device:CPU:0] (DEBUG INFO) Executor start aborting (this does not indicate an error and you can ignore this message): INVALID_ARGUMENT: You must feed a value for placeholder tensor 'gradients/split_1_grad/concat/split_1/split_dim' with dtype int32\n",
      "\t [[{{node gradients/split_1_grad/concat/split_1/split_dim}}]]\n"
     ]
    },
    {
     "name": "stdout",
     "output_type": "stream",
     "text": [
      "129/129 [==============================] - 12s 39ms/step - loss: 1.7654 - val_loss: 1.7315\n",
      "Epoch 2/50\n",
      "129/129 [==============================] - 4s 32ms/step - loss: 1.6793 - val_loss: 1.6377\n",
      "Epoch 3/50\n",
      "129/129 [==============================] - 4s 28ms/step - loss: 1.5807 - val_loss: 1.5286\n",
      "Epoch 4/50\n",
      "129/129 [==============================] - 4s 34ms/step - loss: 1.4864 - val_loss: 1.4741\n",
      "Epoch 5/50\n",
      "129/129 [==============================] - 4s 32ms/step - loss: 1.4281 - val_loss: 1.3897\n",
      "Epoch 6/50\n",
      "129/129 [==============================] - 4s 31ms/step - loss: 1.3801 - val_loss: 1.3319\n",
      "Epoch 7/50\n",
      "129/129 [==============================] - 3s 26ms/step - loss: 1.2946 - val_loss: 1.2676\n",
      "Epoch 8/50\n",
      "129/129 [==============================] - 3s 26ms/step - loss: 1.2328 - val_loss: 1.1901\n",
      "Epoch 9/50\n",
      "129/129 [==============================] - 3s 24ms/step - loss: 1.1653 - val_loss: 1.1664\n",
      "Epoch 10/50\n",
      "129/129 [==============================] - 4s 29ms/step - loss: 1.1577 - val_loss: 1.1869\n",
      "Epoch 11/50\n",
      "129/129 [==============================] - 4s 33ms/step - loss: 1.1328 - val_loss: 1.1646\n",
      "Epoch 12/50\n",
      "129/129 [==============================] - 3s 26ms/step - loss: 1.1015 - val_loss: 1.2483\n",
      "Epoch 13/50\n",
      "129/129 [==============================] - 4s 31ms/step - loss: 1.0900 - val_loss: 1.0582\n",
      "Epoch 14/50\n",
      "129/129 [==============================] - 3s 25ms/step - loss: 1.0177 - val_loss: 1.0321\n",
      "Epoch 15/50\n",
      "129/129 [==============================] - 4s 29ms/step - loss: 0.9709 - val_loss: 0.9668\n",
      "Epoch 16/50\n",
      "129/129 [==============================] - 4s 28ms/step - loss: 0.9744 - val_loss: 0.9517\n",
      "Epoch 17/50\n",
      "129/129 [==============================] - 4s 30ms/step - loss: 0.9554 - val_loss: 0.9487\n",
      "Epoch 18/50\n",
      "129/129 [==============================] - 6s 44ms/step - loss: 0.9270 - val_loss: 0.9015\n",
      "Epoch 19/50\n",
      "129/129 [==============================] - 4s 33ms/step - loss: 0.9027 - val_loss: 0.9568\n",
      "Epoch 20/50\n",
      "129/129 [==============================] - 5s 38ms/step - loss: 0.9391 - val_loss: 0.9152\n",
      "Epoch 21/50\n",
      "129/129 [==============================] - 4s 32ms/step - loss: 0.8896 - val_loss: 0.8473\n",
      "Epoch 22/50\n",
      "129/129 [==============================] - 4s 29ms/step - loss: 0.8660 - val_loss: 0.8446\n",
      "Epoch 23/50\n",
      "129/129 [==============================] - 3s 25ms/step - loss: 0.8991 - val_loss: 0.8679\n",
      "Epoch 24/50\n",
      "129/129 [==============================] - 4s 30ms/step - loss: 0.8495 - val_loss: 0.7872\n",
      "Epoch 25/50\n",
      "129/129 [==============================] - 4s 33ms/step - loss: 0.8272 - val_loss: 0.7439\n",
      "Epoch 26/50\n",
      "129/129 [==============================] - 4s 34ms/step - loss: 0.8129 - val_loss: 0.7550\n",
      "Epoch 27/50\n",
      "129/129 [==============================] - 3s 22ms/step - loss: 0.7782 - val_loss: 0.7274\n",
      "Epoch 28/50\n",
      "129/129 [==============================] - 3s 22ms/step - loss: 0.7832 - val_loss: 0.7143\n",
      "Epoch 29/50\n",
      "129/129 [==============================] - 3s 23ms/step - loss: 0.7744 - val_loss: 0.7338\n",
      "Epoch 30/50\n",
      "129/129 [==============================] - 3s 23ms/step - loss: 0.7412 - val_loss: 0.6945\n",
      "Epoch 31/50\n",
      "129/129 [==============================] - 3s 23ms/step - loss: 0.7057 - val_loss: 0.6712\n",
      "Epoch 32/50\n",
      "129/129 [==============================] - 3s 22ms/step - loss: 0.7427 - val_loss: 0.7043\n",
      "Epoch 33/50\n",
      "129/129 [==============================] - 3s 22ms/step - loss: 0.7453 - val_loss: 0.6948\n",
      "Epoch 34/50\n",
      "129/129 [==============================] - 3s 23ms/step - loss: 0.7033 - val_loss: 0.6427\n",
      "Epoch 35/50\n",
      "129/129 [==============================] - 5s 40ms/step - loss: 0.6817 - val_loss: 0.6894\n",
      "Epoch 36/50\n",
      "129/129 [==============================] - 5s 36ms/step - loss: 0.6761 - val_loss: 0.6302\n",
      "Epoch 37/50\n",
      "129/129 [==============================] - 4s 34ms/step - loss: 0.6516 - val_loss: 0.5985\n",
      "Epoch 38/50\n",
      "129/129 [==============================] - 5s 36ms/step - loss: 0.6497 - val_loss: 0.5953\n",
      "Epoch 39/50\n",
      "129/129 [==============================] - 4s 33ms/step - loss: 0.6430 - val_loss: 0.6008\n",
      "Epoch 40/50\n",
      "129/129 [==============================] - 4s 28ms/step - loss: 0.6379 - val_loss: 0.5733\n",
      "Epoch 41/50\n",
      "129/129 [==============================] - 3s 27ms/step - loss: 0.6441 - val_loss: 0.6058\n",
      "Epoch 42/50\n",
      "129/129 [==============================] - 4s 29ms/step - loss: 0.6887 - val_loss: 0.6736\n",
      "Epoch 43/50\n",
      "129/129 [==============================] - 4s 28ms/step - loss: 0.6941 - val_loss: 0.6342\n",
      "Epoch 44/50\n",
      "129/129 [==============================] - 4s 30ms/step - loss: 0.6310 - val_loss: 0.5977\n",
      "Epoch 45/50\n",
      "129/129 [==============================] - 4s 33ms/step - loss: 0.6337 - val_loss: 0.5182\n",
      "Epoch 46/50\n",
      "129/129 [==============================] - 4s 31ms/step - loss: 0.6064 - val_loss: 0.5601\n",
      "Epoch 47/50\n",
      "129/129 [==============================] - 4s 29ms/step - loss: 0.5986 - val_loss: 0.5726\n",
      "Epoch 48/50\n",
      "129/129 [==============================] - 4s 28ms/step - loss: 0.6152 - val_loss: 0.5422\n",
      "Epoch 49/50\n",
      "129/129 [==============================] - 4s 30ms/step - loss: 0.6042 - val_loss: 0.5097\n",
      "Epoch 50/50\n",
      "129/129 [==============================] - 4s 30ms/step - loss: 0.5657 - val_loss: 0.5020\n"
     ]
    },
    {
     "data": {
      "text/plain": [
       "<keras.callbacks.History at 0x7f9227d99340>"
      ]
     },
     "execution_count": 49,
     "metadata": {},
     "output_type": "execute_result"
    }
   ],
   "source": [
    "model1 = Sequential()\n",
    "model1.add(Input(shape=(24, 977)))\n",
    "model1.add(LSTM(6, return_sequences=True))\n",
    "model1.add(Dropout(0.3))\n",
    "model1.add(LSTM(6))\n",
    "model1.add(Dropout(0.3))\n",
    "model1.add(Dense(6, activation='softmax', name='classificador'))\n",
    "model1.compile(optimizer='adam', loss='categorical_crossentropy')\n",
    "model1.summary()\n",
    "\n",
    "\n",
    "model1.fit(X_train, Y_train_ohe, epochs = 50, batch_size=32, validation_split=0.2)"
   ]
  },
  {
   "cell_type": "code",
   "execution_count": 71,
   "id": "f8110853",
   "metadata": {},
   "outputs": [
    {
     "name": "stdout",
     "output_type": "stream",
     "text": [
      "18/18 [==============================] - 0s 11ms/step\n",
      "              precision    recall  f1-score   support\n",
      "\n",
      "           0       0.90      1.00      0.95        85\n",
      "           1       0.97      0.94      0.95        97\n",
      "           2       0.89      0.88      0.88        98\n",
      "           3       0.86      0.89      0.87        98\n",
      "           4       0.89      0.87      0.88        98\n",
      "           5       0.89      0.84      0.86        97\n",
      "\n",
      "    accuracy                           0.90       573\n",
      "   macro avg       0.90      0.90      0.90       573\n",
      "weighted avg       0.90      0.90      0.90       573\n",
      "\n"
     ]
    },
    {
     "data": {
      "image/png": "[encoded data removed]",
      "text/plain": [
       "<Figure size 640x480 with 2 Axes>"
      ]
     },
     "metadata": {},
     "output_type": "display_data"
    }
   ],
   "source": [
    "y_est = model1.predict(X_test)\n",
    "\n",
    "y_est_argmax = np.argmax(y_est, axis=1)\n",
    "y_test_hot_arg = np.argmax(Y_test_ohe, axis=1)\n",
    "\n",
    "from sklearn.metrics import classification_report\n",
    "print(classification_report(y_test_hot_arg, y_est_argmax))\n",
    "\n",
    "acc_dict = classification_report(y_test_hot_arg, y_est_argmax,output_dict=True)\n",
    "\n",
    "acc_dict['accuracy']\n",
    "\n",
    "matriz_confusao(y_test_hot_arg, y_est_argmax)\n",
    "\n",
    "model1.save(\"inhouse.h5\")"
   ]
  },
  {
   "cell_type": "markdown",
   "id": "a20d4667",
   "metadata": {},
   "source": [
    "# Modelo Pré-Treinado"
   ]
  },
  {
   "cell_type": "code",
   "execution_count": 51,
   "id": "3f1833d1",
   "metadata": {},
   "outputs": [
    {
     "name": "stderr",
     "output_type": "stream",
     "text": [
      "2023-06-06 20:12:07.782420: I tensorflow/core/common_runtime/executor.cc:1197] [/device:CPU:0] (DEBUG INFO) Executor start aborting (this does not indicate an error and you can ignore this message): INVALID_ARGUMENT: You must feed a value for placeholder tensor 'gradients/split_2_grad/concat/split_2/split_dim' with dtype int32\n",
      "\t [[{{node gradients/split_2_grad/concat/split_2/split_dim}}]]\n",
      "2023-06-06 20:12:07.785238: I tensorflow/core/common_runtime/executor.cc:1197] [/device:CPU:0] (DEBUG INFO) Executor start aborting (this does not indicate an error and you can ignore this message): INVALID_ARGUMENT: You must feed a value for placeholder tensor 'gradients/split_grad/concat/split/split_dim' with dtype int32\n",
      "\t [[{{node gradients/split_grad/concat/split/split_dim}}]]\n",
      "2023-06-06 20:12:07.787506: I tensorflow/core/common_runtime/executor.cc:1197] [/device:CPU:0] (DEBUG INFO) Executor start aborting (this does not indicate an error and you can ignore this message): INVALID_ARGUMENT: You must feed a value for placeholder tensor 'gradients/split_1_grad/concat/split_1/split_dim' with dtype int32\n",
      "\t [[{{node gradients/split_1_grad/concat/split_1/split_dim}}]]\n"
     ]
    }
   ],
   "source": [
    "from tensorflow.keras.models import load_model\n",
    "\n",
    "# Load the saved model\n",
    "pretrained = load_model('model.h5')\n",
    "\n",
    "pretrained_out = pretrained.output\n",
    "\n",
    "\n",
    "\n"
   ]
  },
  {
   "cell_type": "code",
   "execution_count": 68,
   "id": "6a3c2af1",
   "metadata": {
    "scrolled": true
   },
   "outputs": [
    {
     "name": "stdout",
     "output_type": "stream",
     "text": [
      "Model: \"model_3\"\n",
      "_________________________________________________________________\n",
      " Layer (type)                Output Shape              Param #   \n",
      "=================================================================\n",
      " input_5 (InputLayer)        [(None, 24, 977)]         0         \n",
      "                                                                 \n",
      " lstm_6 (LSTM)               (None, 6)                 23616     \n",
      "                                                                 \n",
      " classificador (Dense)       (None, 6)                 42        \n",
      "                                                                 \n",
      " dense_9 (Dense)             (None, 12)                84        \n",
      "                                                                 \n",
      " dense_10 (Dense)            (None, 24)                312       \n",
      "                                                                 \n",
      " dense_11 (Dense)            (None, 6)                 150       \n",
      "                                                                 \n",
      "=================================================================\n",
      "Total params: 24,204\n",
      "Trainable params: 24,204\n",
      "Non-trainable params: 0\n",
      "_________________________________________________________________\n"
     ]
    }
   ],
   "source": [
    "from keras.models import Model\n",
    "model = Dense(12)(pretrained_out)\n",
    "model = Dense(24)(model)\n",
    "model = Dense(6, activation = \"softmax\")(model)\n",
    "output = Model(pretrained.input, model)\n",
    "output.compile(optimizer='adam', loss='categorical_crossentropy')\n",
    "output.summary()"
   ]
  },
  {
   "cell_type": "code",
   "execution_count": 69,
   "id": "9524dc31",
   "metadata": {},
   "outputs": [
    {
     "name": "stdout",
     "output_type": "stream",
     "text": [
      "Epoch 1/50\n"
     ]
    },
    {
     "name": "stderr",
     "output_type": "stream",
     "text": [
      "2023-06-06 20:22:34.276848: I tensorflow/core/common_runtime/executor.cc:1197] [/device:CPU:0] (DEBUG INFO) Executor start aborting (this does not indicate an error and you can ignore this message): INVALID_ARGUMENT: You must feed a value for placeholder tensor 'gradients/split_2_grad/concat/split_2/split_dim' with dtype int32\n",
      "\t [[{{node gradients/split_2_grad/concat/split_2/split_dim}}]]\n",
      "2023-06-06 20:22:34.280281: I tensorflow/core/common_runtime/executor.cc:1197] [/device:CPU:0] (DEBUG INFO) Executor start aborting (this does not indicate an error and you can ignore this message): INVALID_ARGUMENT: You must feed a value for placeholder tensor 'gradients/split_grad/concat/split/split_dim' with dtype int32\n",
      "\t [[{{node gradients/split_grad/concat/split/split_dim}}]]\n",
      "2023-06-06 20:22:34.285176: I tensorflow/core/common_runtime/executor.cc:1197] [/device:CPU:0] (DEBUG INFO) Executor start aborting (this does not indicate an error and you can ignore this message): INVALID_ARGUMENT: You must feed a value for placeholder tensor 'gradients/split_1_grad/concat/split_1/split_dim' with dtype int32\n",
      "\t [[{{node gradients/split_1_grad/concat/split_1/split_dim}}]]\n",
      "2023-06-06 20:22:35.678992: I tensorflow/core/common_runtime/executor.cc:1197] [/device:CPU:0] (DEBUG INFO) Executor start aborting (this does not indicate an error and you can ignore this message): INVALID_ARGUMENT: You must feed a value for placeholder tensor 'gradients/split_2_grad/concat/split_2/split_dim' with dtype int32\n",
      "\t [[{{node gradients/split_2_grad/concat/split_2/split_dim}}]]\n",
      "2023-06-06 20:22:35.681476: I tensorflow/core/common_runtime/executor.cc:1197] [/device:CPU:0] (DEBUG INFO) Executor start aborting (this does not indicate an error and you can ignore this message): INVALID_ARGUMENT: You must feed a value for placeholder tensor 'gradients/split_grad/concat/split/split_dim' with dtype int32\n",
      "\t [[{{node gradients/split_grad/concat/split/split_dim}}]]\n",
      "2023-06-06 20:22:35.683679: I tensorflow/core/common_runtime/executor.cc:1197] [/device:CPU:0] (DEBUG INFO) Executor start aborting (this does not indicate an error and you can ignore this message): INVALID_ARGUMENT: You must feed a value for placeholder tensor 'gradients/split_1_grad/concat/split_1/split_dim' with dtype int32\n",
      "\t [[{{node gradients/split_1_grad/concat/split_1/split_dim}}]]\n"
     ]
    },
    {
     "name": "stdout",
     "output_type": "stream",
     "text": [
      "126/129 [============================>.] - ETA: 0s - loss: 1.0937"
     ]
    },
    {
     "name": "stderr",
     "output_type": "stream",
     "text": [
      "2023-06-06 20:22:41.123978: I tensorflow/core/common_runtime/executor.cc:1197] [/device:CPU:0] (DEBUG INFO) Executor start aborting (this does not indicate an error and you can ignore this message): INVALID_ARGUMENT: You must feed a value for placeholder tensor 'gradients/split_2_grad/concat/split_2/split_dim' with dtype int32\n",
      "\t [[{{node gradients/split_2_grad/concat/split_2/split_dim}}]]\n",
      "2023-06-06 20:22:41.127770: I tensorflow/core/common_runtime/executor.cc:1197] [/device:CPU:0] (DEBUG INFO) Executor start aborting (this does not indicate an error and you can ignore this message): INVALID_ARGUMENT: You must feed a value for placeholder tensor 'gradients/split_grad/concat/split/split_dim' with dtype int32\n",
      "\t [[{{node gradients/split_grad/concat/split/split_dim}}]]\n",
      "2023-06-06 20:22:41.130641: I tensorflow/core/common_runtime/executor.cc:1197] [/device:CPU:0] (DEBUG INFO) Executor start aborting (this does not indicate an error and you can ignore this message): INVALID_ARGUMENT: You must feed a value for placeholder tensor 'gradients/split_1_grad/concat/split_1/split_dim' with dtype int32\n",
      "\t [[{{node gradients/split_1_grad/concat/split_1/split_dim}}]]\n"
     ]
    },
    {
     "name": "stdout",
     "output_type": "stream",
     "text": [
      "129/129 [==============================] - 8s 34ms/step - loss: 1.0814 - val_loss: 0.5777\n",
      "Epoch 2/50\n",
      "129/129 [==============================] - 4s 34ms/step - loss: 0.3100 - val_loss: 0.2635\n",
      "Epoch 3/50\n",
      "129/129 [==============================] - 4s 29ms/step - loss: 0.1786 - val_loss: 0.2345\n",
      "Epoch 4/50\n",
      "129/129 [==============================] - 3s 21ms/step - loss: 0.2357 - val_loss: 0.4980\n",
      "Epoch 5/50\n",
      "129/129 [==============================] - 3s 20ms/step - loss: 0.3205 - val_loss: 0.4337\n",
      "Epoch 6/50\n",
      "129/129 [==============================] - 2s 19ms/step - loss: 0.2650 - val_loss: 0.3663\n",
      "Epoch 7/50\n",
      "129/129 [==============================] - 2s 18ms/step - loss: 0.2016 - val_loss: 0.2886\n",
      "Epoch 8/50\n",
      "129/129 [==============================] - 2s 17ms/step - loss: 0.1803 - val_loss: 0.3117\n",
      "Epoch 9/50\n",
      "129/129 [==============================] - 2s 18ms/step - loss: 0.1712 - val_loss: 0.4172\n",
      "Epoch 10/50\n",
      "129/129 [==============================] - 2s 18ms/step - loss: 0.1725 - val_loss: 0.2785\n",
      "Epoch 11/50\n",
      "129/129 [==============================] - 2s 19ms/step - loss: 0.1449 - val_loss: 0.3083\n",
      "Epoch 12/50\n",
      "129/129 [==============================] - 2s 18ms/step - loss: 0.1475 - val_loss: 0.2860\n",
      "Epoch 13/50\n",
      "129/129 [==============================] - 2s 19ms/step - loss: 0.1317 - val_loss: 0.2387\n",
      "Epoch 14/50\n",
      "129/129 [==============================] - 2s 19ms/step - loss: 0.1193 - val_loss: 0.2605\n",
      "Epoch 15/50\n",
      "129/129 [==============================] - 2s 18ms/step - loss: 0.1747 - val_loss: 0.2571\n",
      "Epoch 16/50\n",
      "129/129 [==============================] - 2s 18ms/step - loss: 0.2456 - val_loss: 0.2705\n",
      "Epoch 17/50\n",
      "129/129 [==============================] - 2s 18ms/step - loss: 0.1765 - val_loss: 0.3367\n",
      "Epoch 18/50\n",
      "129/129 [==============================] - 2s 19ms/step - loss: 0.1802 - val_loss: 0.2223\n",
      "Epoch 19/50\n",
      "129/129 [==============================] - 3s 20ms/step - loss: 0.1322 - val_loss: 0.2239\n",
      "Epoch 20/50\n",
      "129/129 [==============================] - 3s 20ms/step - loss: 0.1155 - val_loss: 0.2045\n",
      "Epoch 21/50\n",
      "129/129 [==============================] - 3s 19ms/step - loss: 0.1100 - val_loss: 0.2083\n",
      "Epoch 22/50\n",
      "129/129 [==============================] - 3s 20ms/step - loss: 0.1140 - val_loss: 0.2341\n",
      "Epoch 23/50\n",
      "129/129 [==============================] - 2s 19ms/step - loss: 0.1257 - val_loss: 0.2334\n",
      "Epoch 24/50\n",
      "129/129 [==============================] - 2s 19ms/step - loss: 0.1242 - val_loss: 0.2341\n",
      "Epoch 25/50\n",
      "129/129 [==============================] - 3s 21ms/step - loss: 0.2474 - val_loss: 0.3499\n",
      "Epoch 26/50\n",
      "129/129 [==============================] - 3s 20ms/step - loss: 0.2605 - val_loss: 0.3529\n",
      "Epoch 27/50\n",
      "129/129 [==============================] - 3s 20ms/step - loss: 0.1960 - val_loss: 0.2983\n",
      "Epoch 28/50\n",
      "129/129 [==============================] - 2s 19ms/step - loss: 0.1756 - val_loss: 0.2598\n",
      "Epoch 29/50\n",
      "129/129 [==============================] - 3s 20ms/step - loss: 0.1597 - val_loss: 0.2319\n",
      "Epoch 30/50\n",
      "129/129 [==============================] - 3s 26ms/step - loss: 0.1169 - val_loss: 0.2096\n",
      "Epoch 31/50\n",
      "129/129 [==============================] - 3s 25ms/step - loss: 0.1083 - val_loss: 0.2116\n",
      "Epoch 32/50\n",
      "129/129 [==============================] - 3s 22ms/step - loss: 0.1074 - val_loss: 0.2087\n",
      "Epoch 33/50\n",
      "129/129 [==============================] - 2s 14ms/step - loss: 0.1044 - val_loss: 0.2075\n",
      "Epoch 34/50\n",
      "129/129 [==============================] - 2s 15ms/step - loss: 0.1017 - val_loss: 0.2070\n",
      "Epoch 35/50\n",
      "129/129 [==============================] - 2s 16ms/step - loss: 0.1045 - val_loss: 0.2086\n",
      "Epoch 36/50\n",
      "129/129 [==============================] - 2s 15ms/step - loss: 0.1222 - val_loss: 0.2534\n",
      "Epoch 37/50\n",
      "129/129 [==============================] - 2s 14ms/step - loss: 0.2316 - val_loss: 0.5709\n",
      "Epoch 38/50\n",
      "129/129 [==============================] - 2s 15ms/step - loss: 0.3753 - val_loss: 0.4344\n",
      "Epoch 39/50\n",
      "129/129 [==============================] - 2s 15ms/step - loss: 0.2133 - val_loss: 0.2953\n",
      "Epoch 40/50\n",
      "129/129 [==============================] - 2s 15ms/step - loss: 0.1639 - val_loss: 0.2643\n",
      "Epoch 41/50\n",
      "129/129 [==============================] - 2s 14ms/step - loss: 0.1464 - val_loss: 0.3084\n",
      "Epoch 42/50\n",
      "129/129 [==============================] - 2s 15ms/step - loss: 0.1853 - val_loss: 0.2546\n",
      "Epoch 43/50\n",
      "129/129 [==============================] - 2s 15ms/step - loss: 0.1523 - val_loss: 0.2424\n",
      "Epoch 44/50\n",
      "129/129 [==============================] - 2s 15ms/step - loss: 0.1325 - val_loss: 0.2624\n",
      "Epoch 45/50\n",
      "129/129 [==============================] - 2s 15ms/step - loss: 0.1425 - val_loss: 0.2664\n",
      "Epoch 46/50\n",
      "129/129 [==============================] - 2s 15ms/step - loss: 0.1211 - val_loss: 0.2310\n",
      "Epoch 47/50\n",
      "129/129 [==============================] - 2s 15ms/step - loss: 0.1177 - val_loss: 0.2282\n",
      "Epoch 48/50\n",
      "129/129 [==============================] - 2s 14ms/step - loss: 0.1103 - val_loss: 0.2281\n",
      "Epoch 49/50\n",
      "129/129 [==============================] - 2s 15ms/step - loss: 0.1002 - val_loss: 0.2263\n",
      "Epoch 50/50\n",
      "129/129 [==============================] - 2s 15ms/step - loss: 0.0992 - val_loss: 0.2260\n"
     ]
    },
    {
     "data": {
      "text/plain": [
       "<keras.callbacks.History at 0x7f9232be4250>"
      ]
     },
     "execution_count": 69,
     "metadata": {},
     "output_type": "execute_result"
    }
   ],
   "source": [
    "output.fit(X_train, Y_train_ohe, epochs = 50, batch_size=32, validation_split=0.2)"
   ]
  },
  {
   "cell_type": "code",
   "execution_count": 86,
   "id": "3e706378",
   "metadata": {},
   "outputs": [
    {
     "name": "stdout",
     "output_type": "stream",
     "text": [
      "18/18 [==============================] - 0s 8ms/step\n",
      "              precision    recall  f1-score   support\n",
      "\n",
      "           0       0.95      0.96      0.96        85\n",
      "           1       0.88      0.95      0.91        97\n",
      "           2       0.98      0.93      0.95        98\n",
      "           3       0.96      0.99      0.97        98\n",
      "           4       0.94      0.89      0.91        98\n",
      "           5       0.95      0.93      0.94        97\n",
      "\n",
      "    accuracy                           0.94       573\n",
      "   macro avg       0.94      0.94      0.94       573\n",
      "weighted avg       0.94      0.94      0.94       573\n",
      "\n"
     ]
    },
    {
     "data": {
      "image/png": "[encoded data removed]",
      "text/plain": [
       "<Figure size 640x480 with 2 Axes>"
      ]
     },
     "metadata": {},
     "output_type": "display_data"
    }
   ],
   "source": [
    "y_est = output.predict(X_test)\n",
    "\n",
    "y_est_argmax = np.argmax(y_est, axis=1)\n",
    "y_test_hot_arg = np.argmax(Y_test_ohe, axis=1)\n",
    "\n",
    "from sklearn.metrics import classification_report\n",
    "print(classification_report(y_test_hot_arg, y_est_argmax))\n",
    "\n",
    "acc_dict = classification_report(y_test_hot_arg, y_est_argmax,output_dict=True)\n",
    "\n",
    "acc_dict['accuracy']\n",
    "\n",
    "matriz_confusao(y_test_hot_arg, y_est_argmax)\n",
    "output.save(\"pretrained.h5\")\n"
   ]
  },
  {
   "cell_type": "code",
   "execution_count": 73,
   "id": "38142513",
   "metadata": {},
   "outputs": [
    {
     "name": "stdout",
     "output_type": "stream",
     "text": [
      "              precision    recall  f1-score   support\n",
      "\n",
      "           0       0.95      0.96      0.96        85\n",
      "           1       0.88      0.95      0.91        97\n",
      "           2       0.98      0.93      0.95        98\n",
      "           3       0.96      0.99      0.97        98\n",
      "           4       0.94      0.89      0.91        98\n",
      "           5       0.95      0.93      0.94        97\n",
      "\n",
      "    accuracy                           0.94       573\n",
      "   macro avg       0.94      0.94      0.94       573\n",
      "weighted avg       0.94      0.94      0.94       573\n",
      "\n"
     ]
    }
   ],
   "source": [
    "\n",
    "\n",
    "\n",
    "\n",
    "print(classification_report(y_test_hot_arg, y_est_argmax))\n",
    "    \n",
    "    "
   ]
  },
  {
   "cell_type": "code",
   "execution_count": null,
   "id": "40738b9c",
   "metadata": {},
   "outputs": [],
   "source": []
  },
  {
   "cell_type": "code",
   "execution_count": 48,
   "id": "9222fe42",
   "metadata": {
    "scrolled": true
   },
   "outputs": [
    {
     "data": {
      "image/png": "[encoded data removed]",
      "text/plain": [
       "<Figure size 640x480 with 1 Axes>"
      ]
     },
     "metadata": {},
     "output_type": "display_data"
    }
   ],
   "source": [
    "\n",
    "    "
   ]
  },
  {
   "cell_type": "markdown",
   "id": "20c1a40b",
   "metadata": {},
   "source": [
    "# Testes de tamanho e tempo"
   ]
  },
  {
   "cell_type": "code",
   "execution_count": 80,
   "id": "624f0297",
   "metadata": {},
   "outputs": [
    {
     "name": "stderr",
     "output_type": "stream",
     "text": [
      "2023-06-06 20:52:02.679152: I tensorflow/core/common_runtime/executor.cc:1197] [/device:CPU:0] (DEBUG INFO) Executor start aborting (this does not indicate an error and you can ignore this message): INVALID_ARGUMENT: You must feed a value for placeholder tensor 'gradients/split_2_grad/concat/split_2/split_dim' with dtype int32\n",
      "\t [[{{node gradients/split_2_grad/concat/split_2/split_dim}}]]\n",
      "2023-06-06 20:52:02.680931: I tensorflow/core/common_runtime/executor.cc:1197] [/device:CPU:0] (DEBUG INFO) Executor start aborting (this does not indicate an error and you can ignore this message): INVALID_ARGUMENT: You must feed a value for placeholder tensor 'gradients/split_grad/concat/split/split_dim' with dtype int32\n",
      "\t [[{{node gradients/split_grad/concat/split/split_dim}}]]\n",
      "2023-06-06 20:52:02.682959: I tensorflow/core/common_runtime/executor.cc:1197] [/device:CPU:0] (DEBUG INFO) Executor start aborting (this does not indicate an error and you can ignore this message): INVALID_ARGUMENT: You must feed a value for placeholder tensor 'gradients/split_1_grad/concat/split_1/split_dim' with dtype int32\n",
      "\t [[{{node gradients/split_1_grad/concat/split_1/split_dim}}]]\n",
      "2023-06-06 20:52:02.920693: I tensorflow/core/common_runtime/executor.cc:1197] [/device:CPU:0] (DEBUG INFO) Executor start aborting (this does not indicate an error and you can ignore this message): INVALID_ARGUMENT: You must feed a value for placeholder tensor 'gradients/split_2_grad/concat/split_2/split_dim' with dtype int32\n",
      "\t [[{{node gradients/split_2_grad/concat/split_2/split_dim}}]]\n",
      "2023-06-06 20:52:02.922704: I tensorflow/core/common_runtime/executor.cc:1197] [/device:CPU:0] (DEBUG INFO) Executor start aborting (this does not indicate an error and you can ignore this message): INVALID_ARGUMENT: You must feed a value for placeholder tensor 'gradients/split_grad/concat/split/split_dim' with dtype int32\n",
      "\t [[{{node gradients/split_grad/concat/split/split_dim}}]]\n",
      "2023-06-06 20:52:02.924977: I tensorflow/core/common_runtime/executor.cc:1197] [/device:CPU:0] (DEBUG INFO) Executor start aborting (this does not indicate an error and you can ignore this message): INVALID_ARGUMENT: You must feed a value for placeholder tensor 'gradients/split_1_grad/concat/split_1/split_dim' with dtype int32\n",
      "\t [[{{node gradients/split_1_grad/concat/split_1/split_dim}}]]\n",
      "2023-06-06 20:52:03.260329: I tensorflow/core/common_runtime/executor.cc:1197] [/device:CPU:0] (DEBUG INFO) Executor start aborting (this does not indicate an error and you can ignore this message): INVALID_ARGUMENT: You must feed a value for placeholder tensor 'gradients/split_2_grad/concat/split_2/split_dim' with dtype int32\n",
      "\t [[{{node gradients/split_2_grad/concat/split_2/split_dim}}]]\n",
      "2023-06-06 20:52:03.262619: I tensorflow/core/common_runtime/executor.cc:1197] [/device:CPU:0] (DEBUG INFO) Executor start aborting (this does not indicate an error and you can ignore this message): INVALID_ARGUMENT: You must feed a value for placeholder tensor 'gradients/split_grad/concat/split/split_dim' with dtype int32\n",
      "\t [[{{node gradients/split_grad/concat/split/split_dim}}]]\n",
      "2023-06-06 20:52:03.264023: I tensorflow/core/common_runtime/executor.cc:1197] [/device:CPU:0] (DEBUG INFO) Executor start aborting (this does not indicate an error and you can ignore this message): INVALID_ARGUMENT: You must feed a value for placeholder tensor 'gradients/split_1_grad/concat/split_1/split_dim' with dtype int32\n",
      "\t [[{{node gradients/split_1_grad/concat/split_1/split_dim}}]]\n"
     ]
    }
   ],
   "source": [
    "from joblib import load\n",
    "model_1 = load_model(\"inhouse.h5\")\n",
    "model_2 = load_model(\"pretrained.h5\")\n",
    "lr_model = load('logistic_regression_model.joblib')\n",
    "\n",
    "\n"
   ]
  },
  {
   "cell_type": "code",
   "execution_count": 84,
   "id": "0faa09d9",
   "metadata": {},
   "outputs": [
    {
     "name": "stderr",
     "output_type": "stream",
     "text": [
      "2023-06-06 20:53:13.536995: I tensorflow/core/common_runtime/executor.cc:1197] [/device:CPU:0] (DEBUG INFO) Executor start aborting (this does not indicate an error and you can ignore this message): INVALID_ARGUMENT: You must feed a value for placeholder tensor 'gradients/split_2_grad/concat/split_2/split_dim' with dtype int32\n",
      "\t [[{{node gradients/split_2_grad/concat/split_2/split_dim}}]]\n",
      "2023-06-06 20:53:13.541410: I tensorflow/core/common_runtime/executor.cc:1197] [/device:CPU:0] (DEBUG INFO) Executor start aborting (this does not indicate an error and you can ignore this message): INVALID_ARGUMENT: You must feed a value for placeholder tensor 'gradients/split_grad/concat/split/split_dim' with dtype int32\n",
      "\t [[{{node gradients/split_grad/concat/split/split_dim}}]]\n",
      "2023-06-06 20:53:13.544145: I tensorflow/core/common_runtime/executor.cc:1197] [/device:CPU:0] (DEBUG INFO) Executor start aborting (this does not indicate an error and you can ignore this message): INVALID_ARGUMENT: You must feed a value for placeholder tensor 'gradients/split_1_grad/concat/split_1/split_dim' with dtype int32\n",
      "\t [[{{node gradients/split_1_grad/concat/split_1/split_dim}}]]\n",
      "2023-06-06 20:53:13.902224: I tensorflow/core/common_runtime/executor.cc:1197] [/device:CPU:0] (DEBUG INFO) Executor start aborting (this does not indicate an error and you can ignore this message): INVALID_ARGUMENT: You must feed a value for placeholder tensor 'gradients/split_2_grad/concat/split_2/split_dim' with dtype int32\n",
      "\t [[{{node gradients/split_2_grad/concat/split_2/split_dim}}]]\n",
      "2023-06-06 20:53:13.904706: I tensorflow/core/common_runtime/executor.cc:1197] [/device:CPU:0] (DEBUG INFO) Executor start aborting (this does not indicate an error and you can ignore this message): INVALID_ARGUMENT: You must feed a value for placeholder tensor 'gradients/split_grad/concat/split/split_dim' with dtype int32\n",
      "\t [[{{node gradients/split_grad/concat/split/split_dim}}]]\n",
      "2023-06-06 20:53:13.906427: I tensorflow/core/common_runtime/executor.cc:1197] [/device:CPU:0] (DEBUG INFO) Executor start aborting (this does not indicate an error and you can ignore this message): INVALID_ARGUMENT: You must feed a value for placeholder tensor 'gradients/split_1_grad/concat/split_1/split_dim' with dtype int32\n",
      "\t [[{{node gradients/split_1_grad/concat/split_1/split_dim}}]]\n"
     ]
    },
    {
     "name": "stdout",
     "output_type": "stream",
     "text": [
      "18/18 [==============================] - 1s 10ms/step\n",
      "Prediction execution time: 1.2910878658294678 seconds\n"
     ]
    }
   ],
   "source": [
    "import time\n",
    "\n",
    "start_time = time.time()\n",
    "\n",
    "# Perform the prediction\n",
    "predictions = model_1.predict(X_test)\n",
    "\n",
    "# End the timer\n",
    "end_time = time.time()\n",
    "\n",
    "# Calculate the execution time\n",
    "execution_time = end_time - start_time\n",
    "print(\"Prediction execution time:\", execution_time, \"seconds\")"
   ]
  },
  {
   "cell_type": "code",
   "execution_count": 83,
   "id": "a016a1a7",
   "metadata": {},
   "outputs": [
    {
     "name": "stderr",
     "output_type": "stream",
     "text": [
      "2023-06-06 20:53:00.714119: I tensorflow/core/common_runtime/executor.cc:1197] [/device:CPU:0] (DEBUG INFO) Executor start aborting (this does not indicate an error and you can ignore this message): INVALID_ARGUMENT: You must feed a value for placeholder tensor 'gradients/split_2_grad/concat/split_2/split_dim' with dtype int32\n",
      "\t [[{{node gradients/split_2_grad/concat/split_2/split_dim}}]]\n",
      "2023-06-06 20:53:00.716144: I tensorflow/core/common_runtime/executor.cc:1197] [/device:CPU:0] (DEBUG INFO) Executor start aborting (this does not indicate an error and you can ignore this message): INVALID_ARGUMENT: You must feed a value for placeholder tensor 'gradients/split_grad/concat/split/split_dim' with dtype int32\n",
      "\t [[{{node gradients/split_grad/concat/split/split_dim}}]]\n",
      "2023-06-06 20:53:00.717684: I tensorflow/core/common_runtime/executor.cc:1197] [/device:CPU:0] (DEBUG INFO) Executor start aborting (this does not indicate an error and you can ignore this message): INVALID_ARGUMENT: You must feed a value for placeholder tensor 'gradients/split_1_grad/concat/split_1/split_dim' with dtype int32\n",
      "\t [[{{node gradients/split_1_grad/concat/split_1/split_dim}}]]\n"
     ]
    },
    {
     "name": "stdout",
     "output_type": "stream",
     "text": [
      "18/18 [==============================] - 1s 9ms/step\n",
      "Prediction execution time: 0.7801468372344971 seconds\n"
     ]
    }
   ],
   "source": [
    "import time\n",
    "\n",
    "start_time = time.time()\n",
    "\n",
    "# Perform the prediction\n",
    "predictions = model_2.predict(X_test)\n",
    "\n",
    "# End the timer\n",
    "end_time = time.time()\n",
    "\n",
    "# Calculate the execution time\n",
    "execution_time = end_time - start_time\n",
    "print(\"Prediction execution time:\", execution_time, \"seconds\")"
   ]
  },
  {
   "cell_type": "code",
   "execution_count": 85,
   "id": "dee3e3bb",
   "metadata": {},
   "outputs": [
    {
     "name": "stdout",
     "output_type": "stream",
     "text": [
      "Prediction execution time: 0.14192819595336914 seconds\n"
     ]
    }
   ],
   "source": [
    "import time\n",
    "\n",
    "start_time = time.time()\n",
    "\n",
    "# Perform the prediction\n",
    "predictions = lr_model.predict(X_test_2d)\n",
    "\n",
    "# End the timer\n",
    "end_time = time.time()\n",
    "\n",
    "# Calculate the execution time\n",
    "execution_time = end_time - start_time\n",
    "print(\"Prediction execution time:\", execution_time, \"seconds\")"
   ]
  },
  {
   "cell_type": "code",
   "execution_count": null,
   "id": "0a25f769",
   "metadata": {},
   "outputs": [],
   "source": []
  }
 ],
 "metadata": {
  "kernelspec": {
   "display_name": "Python 3 (ipykernel)",
   "language": "python",
   "name": "python3"
  },
  "language_info": {
   "codemirror_mode": {
    "name": "ipython",
    "version": 3
   },
   "file_extension": ".py",
   "mimetype": "text/x-python",
   "name": "python",
   "nbconvert_exporter": "python",
   "pygments_lexer": "ipython3",
   "version": "3.8.0"
  }
 },
 "nbformat": 4,
 "nbformat_minor": 5
}
